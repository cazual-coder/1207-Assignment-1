{
 "cells": [
  {
   "cell_type": "markdown",
   "id": "8b4fa04b",
   "metadata": {},
   "source": [
    "## Assignment 1\n",
    "**Deadline**: 23rd September 2024\n",
    "\n",
    "This assessment consists of 20 MongoDB queries, ranging from easy to hard. You are required to use the following sample data:\n",
    "\n",
    "```json\n",
    "{\n",
    "    \"students\": [\n",
    "        {\"name\": \"Rohit\", \"age\": 23, \"math_score\": 85, \"physics_score\": 90, \"city\": \"New York\"},\n",
    "        {\"name\": \"Eram\", \"age\": 22, \"math_score\": 78, \"physics_score\": 75, \"city\": \"Los Angeles\"},\n",
    "        {\"name\": \"Madan\", \"age\": 24, \"math_score\": 95, \"physics_score\": 88, \"city\": \"Chicago\"},\n",
    "        {\"name\": \"Uvaish\", \"age\": 21, \"math_score\": 60, \"physics_score\": 65, \"city\": \"Houston\"},\n",
    "        {\"name\": \"Neha\", \"age\": 23, \"math_score\": 72, \"physics_score\": 80, \"city\": \"Phoenix\"}\n",
    "    ]\n",
    "}\n",
    "\n",
    "```\n",
    "\n",
    "Please submit your solutions by the given deadline.\n"
   ]
  },
  {
   "cell_type": "markdown",
   "id": "3e733b76",
   "metadata": {},
   "source": [
    "1. Insert the given sample data into a MongoDB collection called 'students'."
   ]
  },
  {
   "cell_type": "code",
   "execution_count": 6,
   "id": "03d2d6e6",
   "metadata": {},
   "outputs": [
    {
     "data": {
      "text/plain": [
       "InsertManyResult([ObjectId('66f1579957132d11f5242e58'), ObjectId('66f1579957132d11f5242e59'), ObjectId('66f1579957132d11f5242e5a'), ObjectId('66f1579957132d11f5242e5b'), ObjectId('66f1579957132d11f5242e5c')], acknowledged=True)"
      ]
     },
     "execution_count": 6,
     "metadata": {},
     "output_type": "execute_result"
    }
   ],
   "source": [
    "import pymongo\n",
    "\n",
    "# Connect to MongoDB\n",
    "client = pymongo.MongoClient(\"mongodb://localhost:27017/\")\n",
    "\n",
    "# Accessing the Database\n",
    "mydb = client[\"Unmessenger\"]\n",
    "\n",
    "# Creating Collection\n",
    "collection = mydb.students\n",
    "\n",
    "# Accessing Collection\n",
    "collection = mydb[\"students\"]\n",
    "\n",
    "collection.insert_many([\n",
    "    {\"name\": \"Rohit\", \"age\": 23, \"math_score\": 85, \"physics_score\": 90, \"city\": \"New York\"},\n",
    "    {\"name\": \"Eram\", \"age\": 22, \"math_score\": 78, \"physics_score\": 75, \"city\": \"Los Angeles\"},\n",
    "    {\"name\": \"Madan\", \"age\": 24, \"math_score\": 95, \"physics_score\": 88, \"city\": \"Chicago\"},\n",
    "    {\"name\": \"Uvaish\", \"age\": 21, \"math_score\": 60, \"physics_score\": 65, \"city\": \"Houston\"},\n",
    "    {\"name\": \"Neha\", \"age\": 23, \"math_score\": 72, \"physics_score\": 80, \"city\": \"Phoenix\"}\n",
    "])\n"
   ]
  },
  {
   "cell_type": "markdown",
   "id": "c63a46c2",
   "metadata": {},
   "source": [
    "2. Write a query to find all students who have a 'math_score' greater than 80."
   ]
  },
  {
   "cell_type": "code",
   "execution_count": 8,
   "id": "2a6ca4b7",
   "metadata": {},
   "outputs": [
    {
     "name": "stdout",
     "output_type": "stream",
     "text": [
      "{'_id': ObjectId('66f1579957132d11f5242e58'), 'name': 'Rohit', 'age': 23, 'math_score': 85, 'physics_score': 90, 'city': 'New York'}\n",
      "{'_id': ObjectId('66f1579957132d11f5242e5a'), 'name': 'Madan', 'age': 24, 'math_score': 95, 'physics_score': 88, 'city': 'Chicago'}\n"
     ]
    }
   ],
   "source": [
    "result = mydb.students.find({\"math_score\": {\"$gt\": 80}})\n",
    "\n",
    "for student in result:\n",
    "    print(student)\n",
    "\n"
   ]
  },
  {
   "cell_type": "markdown",
   "id": "f965853a",
   "metadata": {},
   "source": [
    "3. Write a query to find students whose 'age' is less than 23."
   ]
  },
  {
   "cell_type": "code",
   "execution_count": 9,
   "id": "6140e412",
   "metadata": {},
   "outputs": [
    {
     "name": "stdout",
     "output_type": "stream",
     "text": [
      "{'_id': ObjectId('66f1579957132d11f5242e59'), 'name': 'Eram', 'age': 22, 'math_score': 78, 'physics_score': 75, 'city': 'Los Angeles'}\n",
      "{'_id': ObjectId('66f1579957132d11f5242e5b'), 'name': 'Uvaish', 'age': 21, 'math_score': 60, 'physics_score': 65, 'city': 'Houston'}\n"
     ]
    }
   ],
   "source": [
    "result = mydb.students.find({\"age\": {\"$lt\": 23}})\n",
    "\n",
    "for student in result:\n",
    "    print(student)\n"
   ]
  },
  {
   "cell_type": "markdown",
   "id": "88005dde",
   "metadata": {},
   "source": [
    "4. Write a query to return only the 'name' and 'math_score' of all students."
   ]
  },
  {
   "cell_type": "code",
   "execution_count": 10,
   "id": "b274135f",
   "metadata": {},
   "outputs": [
    {
     "name": "stdout",
     "output_type": "stream",
     "text": [
      "{'name': 'Rohit', 'math_score': 85}\n",
      "{'name': 'Eram', 'math_score': 78}\n",
      "{'name': 'Madan', 'math_score': 95}\n",
      "{'name': 'Uvaish', 'math_score': 60}\n",
      "{'name': 'Neha', 'math_score': 72}\n"
     ]
    }
   ],
   "source": [
    "result = mydb.students.find({}, {\"name\": 1, \"math_score\": 1, \"_id\": 0})\n",
    "\n",
    "for student in result:\n",
    "    print(student)\n"
   ]
  },
  {
   "cell_type": "markdown",
   "id": "7a148d48",
   "metadata": {},
   "source": [
    "5. Write a query to find students from the city 'New York'."
   ]
  },
  {
   "cell_type": "code",
   "execution_count": 11,
   "id": "2acedafc",
   "metadata": {},
   "outputs": [
    {
     "name": "stdout",
     "output_type": "stream",
     "text": [
      "{'_id': ObjectId('66f1579957132d11f5242e58'), 'name': 'Rohit', 'age': 23, 'math_score': 85, 'physics_score': 90, 'city': 'New York'}\n"
     ]
    }
   ],
   "source": [
    "result = mydb.students.find({\"city\": \"New York\"})\n",
    "\n",
    "for student in result:\n",
    "    print(student)\n"
   ]
  },
  {
   "cell_type": "markdown",
   "id": "aaa6f033",
   "metadata": {},
   "source": [
    "6. Write a query to update the 'physics_score' of 'Uvaish' to 85."
   ]
  },
  {
   "cell_type": "code",
   "execution_count": 12,
   "id": "ae4d1f5f",
   "metadata": {},
   "outputs": [
    {
     "data": {
      "text/plain": [
       "UpdateResult({'n': 1, 'nModified': 1, 'ok': 1.0, 'updatedExisting': True}, acknowledged=True)"
      ]
     },
     "execution_count": 12,
     "metadata": {},
     "output_type": "execute_result"
    }
   ],
   "source": [
    "mydb.students.update_one(\n",
    "    {\"name\": \"Uvaish\"},\n",
    "    {\"$set\": {\"physics_score\": 85}}\n",
    ")\n"
   ]
  },
  {
   "cell_type": "markdown",
   "id": "1df67d31",
   "metadata": {},
   "source": [
    "7. Write a query to delete the student 'Neha' from the collection."
   ]
  },
  {
   "cell_type": "code",
   "execution_count": 13,
   "id": "293c2347",
   "metadata": {},
   "outputs": [
    {
     "data": {
      "text/plain": [
       "DeleteResult({'n': 1, 'ok': 1.0}, acknowledged=True)"
      ]
     },
     "execution_count": 13,
     "metadata": {},
     "output_type": "execute_result"
    }
   ],
   "source": [
    "mydb.students.delete_one({\"name\": \"Neha\"})\n"
   ]
  },
  {
   "cell_type": "markdown",
   "id": "ad535a0b",
   "metadata": {},
   "source": [
    "8. Write a query to find all students where 'math_score' is between 70 and 90 (inclusive)."
   ]
  },
  {
   "cell_type": "code",
   "execution_count": 14,
   "id": "6a3c58a8",
   "metadata": {},
   "outputs": [
    {
     "name": "stdout",
     "output_type": "stream",
     "text": [
      "{'_id': ObjectId('66f1579957132d11f5242e58'), 'name': 'Rohit', 'age': 23, 'math_score': 85, 'physics_score': 90, 'city': 'New York'}\n",
      "{'_id': ObjectId('66f1579957132d11f5242e59'), 'name': 'Eram', 'age': 22, 'math_score': 78, 'physics_score': 75, 'city': 'Los Angeles'}\n"
     ]
    }
   ],
   "source": [
    "result = mydb.students.find({\n",
    "    \"math_score\": {\"$gte\": 70, \"$lte\": 90}\n",
    "})\n",
    "\n",
    "for student in result:\n",
    "    print(student)\n"
   ]
  },
  {
   "cell_type": "markdown",
   "id": "cfb2950f",
   "metadata": {},
   "source": [
    "9. Write a query to find students whose 'math_score' is greater than 'physics_score'."
   ]
  },
  {
   "cell_type": "code",
   "execution_count": 15,
   "id": "ac170ca2",
   "metadata": {},
   "outputs": [
    {
     "name": "stdout",
     "output_type": "stream",
     "text": [
      "{'_id': ObjectId('66f1579957132d11f5242e59'), 'name': 'Eram', 'age': 22, 'math_score': 78, 'physics_score': 75, 'city': 'Los Angeles'}\n",
      "{'_id': ObjectId('66f1579957132d11f5242e5a'), 'name': 'Madan', 'age': 24, 'math_score': 95, 'physics_score': 88, 'city': 'Chicago'}\n"
     ]
    }
   ],
   "source": [
    "result = mydb.students.find({\n",
    "    \"$expr\": {\"$gt\": [\"$math_score\", \"$physics_score\"]}\n",
    "})\n",
    "\n",
    "for student in result:\n",
    "    print(student)\n"
   ]
  },
  {
   "cell_type": "markdown",
   "id": "cebc3d1a",
   "metadata": {},
   "source": [
    "10. Write a query to return students sorted by 'math_score' in descending order."
   ]
  },
  {
   "cell_type": "code",
   "execution_count": 16,
   "id": "1b44a3bd",
   "metadata": {},
   "outputs": [
    {
     "name": "stdout",
     "output_type": "stream",
     "text": [
      "{'_id': ObjectId('66f1579957132d11f5242e5a'), 'name': 'Madan', 'age': 24, 'math_score': 95, 'physics_score': 88, 'city': 'Chicago'}\n",
      "{'_id': ObjectId('66f1579957132d11f5242e58'), 'name': 'Rohit', 'age': 23, 'math_score': 85, 'physics_score': 90, 'city': 'New York'}\n",
      "{'_id': ObjectId('66f1579957132d11f5242e59'), 'name': 'Eram', 'age': 22, 'math_score': 78, 'physics_score': 75, 'city': 'Los Angeles'}\n",
      "{'_id': ObjectId('66f1579957132d11f5242e5b'), 'name': 'Uvaish', 'age': 21, 'math_score': 60, 'physics_score': 85, 'city': 'Houston'}\n"
     ]
    }
   ],
   "source": [
    "result = mydb.students.find().sort(\"math_score\", -1)\n",
    "\n",
    "for student in result:\n",
    "    print(student)\n"
   ]
  },
  {
   "cell_type": "markdown",
   "id": "be69f913",
   "metadata": {},
   "source": [
    "11. Write a query using the aggregation framework to calculate the average 'math_score' of all students."
   ]
  },
  {
   "cell_type": "code",
   "execution_count": 17,
   "id": "8041c7fb",
   "metadata": {},
   "outputs": [
    {
     "name": "stdout",
     "output_type": "stream",
     "text": [
      "{'_id': None, 'average_math_score': 79.5}\n"
     ]
    }
   ],
   "source": [
    "pipeline = [\n",
    "    {\n",
    "        \"$group\": {\n",
    "            \"_id\": None,\n",
    "            \"average_math_score\": {\"$avg\": \"$math_score\"}\n",
    "        }\n",
    "    }\n",
    "]\n",
    "\n",
    "result = mydb.students.aggregate(pipeline)\n",
    "\n",
    "for item in result:\n",
    "    print(item)\n"
   ]
  },
  {
   "cell_type": "markdown",
   "id": "cf841104",
   "metadata": {},
   "source": [
    "12. Write a query to group students by 'city' and count the number of students in each city."
   ]
  },
  {
   "cell_type": "code",
   "execution_count": 18,
   "id": "11c79007",
   "metadata": {},
   "outputs": [
    {
     "name": "stdout",
     "output_type": "stream",
     "text": [
      "{'_id': 'Chicago', 'student_count': 1}\n",
      "{'_id': 'Los Angeles', 'student_count': 1}\n",
      "{'_id': 'Houston', 'student_count': 1}\n",
      "{'_id': 'New York', 'student_count': 1}\n"
     ]
    }
   ],
   "source": [
    "pipeline = [\n",
    "    {\n",
    "        \"$group\": {\n",
    "            \"_id\": \"$city\",\n",
    "            \"student_count\": {\"$sum\": 1}\n",
    "        }\n",
    "    }\n",
    "]\n",
    "\n",
    "result = mydb.students.aggregate(pipeline)\n",
    "\n",
    "for item in result:\n",
    "    print(item)\n"
   ]
  },
  {
   "cell_type": "markdown",
   "id": "422ec61c",
   "metadata": {},
   "source": [
    "13. Write a query to find students who either have 'math_score' greater than 80 or 'physics_score' greater than 85."
   ]
  },
  {
   "cell_type": "code",
   "execution_count": 19,
   "id": "260dcc6a",
   "metadata": {},
   "outputs": [
    {
     "name": "stdout",
     "output_type": "stream",
     "text": [
      "{'_id': ObjectId('66f1579957132d11f5242e58'), 'name': 'Rohit', 'age': 23, 'math_score': 85, 'physics_score': 90, 'city': 'New York'}\n",
      "{'_id': ObjectId('66f1579957132d11f5242e5a'), 'name': 'Madan', 'age': 24, 'math_score': 95, 'physics_score': 88, 'city': 'Chicago'}\n"
     ]
    }
   ],
   "source": [
    "result = mydb.students.find({\n",
    "    \"$or\": [\n",
    "        {\"math_score\": {\"$gt\": 80}},\n",
    "        {\"physics_score\": {\"$gt\": 85}}\n",
    "    ]\n",
    "})\n",
    "\n",
    "for student in result:\n",
    "    print(student)\n"
   ]
  },
  {
   "cell_type": "markdown",
   "id": "ca4d6f63",
   "metadata": {},
   "source": [
    "14. Write a query to find students whose age is exactly 23 and live in 'Phoenix'."
   ]
  },
  {
   "cell_type": "code",
   "execution_count": 20,
   "id": "8743c54d",
   "metadata": {},
   "outputs": [],
   "source": [
    "result = mydb.students.find({\n",
    "    \"age\": 23,\n",
    "    \"city\": \"Phoenix\"\n",
    "})\n",
    "\n",
    "for student in result:\n",
    "    print(student)\n"
   ]
  },
  {
   "cell_type": "markdown",
   "id": "2f871c8d",
   "metadata": {},
   "source": [
    "15. Write a query to find students whose 'math_score' is not equal to 85."
   ]
  },
  {
   "cell_type": "code",
   "execution_count": 21,
   "id": "31dad59e",
   "metadata": {},
   "outputs": [
    {
     "name": "stdout",
     "output_type": "stream",
     "text": [
      "{'_id': ObjectId('66f1579957132d11f5242e59'), 'name': 'Eram', 'age': 22, 'math_score': 78, 'physics_score': 75, 'city': 'Los Angeles'}\n",
      "{'_id': ObjectId('66f1579957132d11f5242e5a'), 'name': 'Madan', 'age': 24, 'math_score': 95, 'physics_score': 88, 'city': 'Chicago'}\n",
      "{'_id': ObjectId('66f1579957132d11f5242e5b'), 'name': 'Uvaish', 'age': 21, 'math_score': 60, 'physics_score': 85, 'city': 'Houston'}\n"
     ]
    }
   ],
   "source": [
    "result = mydb.students.find({\n",
    "    \"math_score\": {\"$ne\": 85}\n",
    "})\n",
    "\n",
    "for student in result:\n",
    "    print(student)\n"
   ]
  },
  {
   "cell_type": "markdown",
   "id": "60ea1681",
   "metadata": {},
   "source": [
    "16. Write a query to find students whose 'name' starts with the letter 'A'."
   ]
  },
  {
   "cell_type": "code",
   "execution_count": 22,
   "id": "7bd53a1f",
   "metadata": {},
   "outputs": [],
   "source": [
    "result = mydb.students.find({\n",
    "    \"name\": {\"$regex\": \"^A\"}\n",
    "})\n",
    "\n",
    "for student in result:\n",
    "    print(student)\n"
   ]
  },
  {
   "cell_type": "markdown",
   "id": "ed20ebf4",
   "metadata": {},
   "source": [
    "17. Write a query to find students whose 'city' is neither 'New York' nor 'Los Angeles'."
   ]
  },
  {
   "cell_type": "code",
   "execution_count": 23,
   "id": "756b4281",
   "metadata": {},
   "outputs": [
    {
     "name": "stdout",
     "output_type": "stream",
     "text": [
      "{'_id': ObjectId('66f1579957132d11f5242e5a'), 'name': 'Madan', 'age': 24, 'math_score': 95, 'physics_score': 88, 'city': 'Chicago'}\n",
      "{'_id': ObjectId('66f1579957132d11f5242e5b'), 'name': 'Uvaish', 'age': 21, 'math_score': 60, 'physics_score': 85, 'city': 'Houston'}\n"
     ]
    }
   ],
   "source": [
    "result = mydb.students.find({\n",
    "    \"city\": {\"$nin\": [\"New York\", \"Los Angeles\"]}\n",
    "})\n",
    "\n",
    "for student in result:\n",
    "    print(student)\n"
   ]
  },
  {
   "cell_type": "markdown",
   "id": "02cbae8c",
   "metadata": {},
   "source": [
    "18. Write a query to update all students with 'age' greater than 22 to add a new field 'graduated': true."
   ]
  },
  {
   "cell_type": "code",
   "execution_count": 24,
   "id": "24708ab9",
   "metadata": {},
   "outputs": [
    {
     "data": {
      "text/plain": [
       "UpdateResult({'n': 2, 'nModified': 2, 'ok': 1.0, 'updatedExisting': True}, acknowledged=True)"
      ]
     },
     "execution_count": 24,
     "metadata": {},
     "output_type": "execute_result"
    }
   ],
   "source": [
    "mydb.students.update_many(\n",
    "    {\"age\": {\"$gt\": 22}},\n",
    "    {\"$set\": {\"graduated\": True}}\n",
    ")\n"
   ]
  },
  {
   "cell_type": "markdown",
   "id": "d2212656",
   "metadata": {},
   "source": [
    "19. Write a query to remove the 'physics_score' field for students who live in 'Chicago'."
   ]
  },
  {
   "cell_type": "code",
   "execution_count": 25,
   "id": "eb52a26e",
   "metadata": {},
   "outputs": [
    {
     "data": {
      "text/plain": [
       "UpdateResult({'n': 1, 'nModified': 1, 'ok': 1.0, 'updatedExisting': True}, acknowledged=True)"
      ]
     },
     "execution_count": 25,
     "metadata": {},
     "output_type": "execute_result"
    }
   ],
   "source": [
    "mydb.students.update_many(\n",
    "    {\"city\": \"Chicago\"},\n",
    "    {\"$unset\": {\"physics_score\": \"\"}}\n",
    ")\n"
   ]
  },
  {
   "cell_type": "markdown",
   "id": "29fcb8f8",
   "metadata": {},
   "source": [
    "20. Write a query to find the student with the highest 'math_score'."
   ]
  },
  {
   "cell_type": "code",
   "execution_count": 26,
   "id": "4f647fd1",
   "metadata": {},
   "outputs": [
    {
     "name": "stdout",
     "output_type": "stream",
     "text": [
      "{'_id': ObjectId('66f1579957132d11f5242e5a'), 'name': 'Madan', 'age': 24, 'math_score': 95, 'city': 'Chicago', 'graduated': True}\n"
     ]
    }
   ],
   "source": [
    "result = mydb.students.find().sort(\"math_score\", -1).limit(1)\n",
    "\n",
    "for student in result:\n",
    "    print(student)\n"
   ]
  }
 ],
 "metadata": {
  "kernelspec": {
   "display_name": "base",
   "language": "python",
   "name": "python3"
  },
  "language_info": {
   "codemirror_mode": {
    "name": "ipython",
    "version": 3
   },
   "file_extension": ".py",
   "mimetype": "text/x-python",
   "name": "python",
   "nbconvert_exporter": "python",
   "pygments_lexer": "ipython3",
   "version": "3.11.5"
  }
 },
 "nbformat": 4,
 "nbformat_minor": 5
}
